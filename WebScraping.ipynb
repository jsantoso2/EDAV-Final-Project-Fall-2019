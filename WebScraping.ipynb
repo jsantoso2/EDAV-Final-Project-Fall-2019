{
 "cells": [
  {
   "cell_type": "markdown",
   "metadata": {},
   "source": [
    "## Importing necessary packages "
   ]
  },
  {
   "cell_type": "code",
   "execution_count": 1,
   "metadata": {},
   "outputs": [],
   "source": [
    "from bs4 import BeautifulSoup\n",
    "from urllib.request import Request, urlopen\n",
    "import re\n",
    "import numpy as np\n",
    "import pandas as pd\n",
    "import requests\n",
    "import collections\n",
    "import math\n",
    "from datetime import datetime, timedelta\n",
    "import time"
   ]
  },
  {
   "cell_type": "markdown",
   "metadata": {},
   "source": [
    "## Getting all tournament links given starting and ending dates "
   ]
  },
  {
   "cell_type": "code",
   "execution_count": 2,
   "metadata": {},
   "outputs": [],
   "source": [
    "def convert_date(date):\n",
    "    year = str(date.year)\n",
    "    month = str(date.month) if len(str(date.month)) == 2 else '0' + str(date.month)\n",
    "    day = str(date.day) if len(str(date.day)) == 2 else '0' + str(date.day)\n",
    "    converted = year + '-' + month + '-' + day\n",
    "    return converted\n",
    "    \n",
    "\n",
    "def get_tournament_links(start, end):\n",
    "    days_diff = (end - start).days\n",
    "    num_of_intervals = math.ceil(days_diff/200)\n",
    "    starting_dates = [start + timedelta(days = 200 * x) for x in range(num_of_intervals)]\n",
    "    links = []\n",
    "    for y in range(num_of_intervals):\n",
    "        start_date = convert_date(starting_dates[y])\n",
    "        if y != num_of_intervals - 1:\n",
    "            end_date = convert_date(starting_dates[y+1] - timedelta(days=1))\n",
    "        else:\n",
    "            end_date = convert_date(end)\n",
    "        payload = {'Page': '10000', 'TournamentFilter.StartDate': start_date, 'TournamentFilter.EndDate': end_date}    \n",
    "        r = requests.post('http://bwf.tournamentsoftware.com/find/tournament/DoSearch', data = payload)    \n",
    "        soup = BeautifulSoup(r.content, 'html.parser')     \n",
    "        temp = soup.select('a[href]') \n",
    "        links += ['http://bwf.tournamentsoftware.com/sport/' + z['href'].split('/')[-1] for z in temp]\n",
    "    links = list(set(links))    \n",
    "    return links"
   ]
  },
  {
   "cell_type": "markdown",
   "metadata": {},
   "source": [
    "### Example "
   ]
  },
  {
   "cell_type": "code",
   "execution_count": 3,
   "metadata": {},
   "outputs": [
    {
     "data": {
      "text/plain": [
       "['http://bwf.tournamentsoftware.com/sport/tournament?id=E5E22A37-A40A-45AA-BEF1-2F8A0D68AF4E',\n",
       " 'http://bwf.tournamentsoftware.com/sport/tournament?id=65276591-A0C4-43C5-838B-211CB925B88E',\n",
       " 'http://bwf.tournamentsoftware.com/sport/tournament?id=88F10E40-F76B-4D20-A62B-31C6DBC1E00B',\n",
       " 'http://bwf.tournamentsoftware.com/sport/tournament?id=C25E58BA-9DC6-4161-B20A-16FD377EDD0D',\n",
       " 'http://bwf.tournamentsoftware.com/sport/tournament?id=533DB455-B5B8-4D37-A32E-1D329872A730',\n",
       " 'http://bwf.tournamentsoftware.com/sport/tournament?id=4EE0960D-D31F-4775-A32C-3370848F8781',\n",
       " 'http://bwf.tournamentsoftware.com/sport/tournament?id=185A87E8-457F-4111-A262-FE510F677AFF',\n",
       " 'http://bwf.tournamentsoftware.com/sport/tournament?id=A6189AA6-D097-49B9-B158-A84E7343EEC7',\n",
       " 'http://bwf.tournamentsoftware.com/sport/tournament?id=89E5ADD3-26AA-43CE-8700-78358629CC2D']"
      ]
     },
     "execution_count": 3,
     "metadata": {},
     "output_type": "execute_result"
    }
   ],
   "source": [
    "get_tournament_links(datetime(2016,1,1), datetime(2016,1,31))"
   ]
  },
  {
   "cell_type": "markdown",
   "metadata": {},
   "source": [
    "## Getting all tournament data given tournament link"
   ]
  },
  {
   "cell_type": "code",
   "execution_count": 4,
   "metadata": {},
   "outputs": [],
   "source": [
    "def get_tournament_data(tournament_link):\n",
    "    r = requests.get(tournament_link,timeout=None)\n",
    "    soup = BeautifulSoup(r.content, 'html.parser')\n",
    "    \n",
    "    temp = soup.find(class_ = 'media__link') \n",
    "    tournament_name = temp.get_text() \n",
    "    \n",
    "    temp = soup.find_all(class_ = 'tag tag--mono') \n",
    "    tournament_type = temp[0].get_text() if len(temp) > 0 else None\n",
    "    \n",
    "    temp = soup.select('span img')[0].get_text().split(', ') \n",
    "    tournament_city = temp[0] if len(temp) > 1 else None\n",
    "    tournament_country = soup.select('span img')[0]['title']\n",
    "    \n",
    "    temp = soup.select('span time')[1]['datetime']\n",
    "    tournament_start_date = datetime.strptime(temp, '%Y-%m-%d %H:%M').date() \n",
    "    temp = soup.select('span time')[2]['datetime']\n",
    "    tournament_end_date = datetime.strptime(temp, '%Y-%m-%d %H:%M').date()\n",
    "    \n",
    "    if 'Matches' in [a.text for a in soup.find_all(class_ = 'page-nav__link')]:\n",
    "        temp = soup.find_all(attrs = {'href': re.compile('/sport/matches.aspx')})\n",
    "        temp = [link for link in temp if link.text != 'Matches']\n",
    "        matches_per_day_links = ['http://bwf.tournamentsoftware.com' + x['href'] for x in temp]\n",
    "    else:\n",
    "        matches_per_day_links = []\n",
    "    return [tournament_name, tournament_type, tournament_city, tournament_country, \n",
    "            tournament_start_date, tournament_end_date, matches_per_day_links]"
   ]
  },
  {
   "cell_type": "markdown",
   "metadata": {},
   "source": [
    "### Example "
   ]
  },
  {
   "cell_type": "code",
   "execution_count": 5,
   "metadata": {},
   "outputs": [
    {
     "data": {
      "text/plain": [
       "['Hellas Open 2019',\n",
       " 'International Series',\n",
       " 'Sidirokastro',\n",
       " 'Greece',\n",
       " datetime.date(2019, 8, 8),\n",
       " datetime.date(2019, 8, 11),\n",
       " ['http://bwf.tournamentsoftware.com/sport/matches.aspx?id=443C49EE-FE58-4D92-9F80-D9732298D30E&d=20190808',\n",
       "  'http://bwf.tournamentsoftware.com/sport/matches.aspx?id=443C49EE-FE58-4D92-9F80-D9732298D30E&d=20190809',\n",
       "  'http://bwf.tournamentsoftware.com/sport/matches.aspx?id=443C49EE-FE58-4D92-9F80-D9732298D30E&d=20190810',\n",
       "  'http://bwf.tournamentsoftware.com/sport/matches.aspx?id=443C49EE-FE58-4D92-9F80-D9732298D30E&d=20190811']]"
      ]
     },
     "execution_count": 5,
     "metadata": {},
     "output_type": "execute_result"
    }
   ],
   "source": [
    "get_tournament_data('http://bwf.tournamentsoftware.com/sport/matches.aspx?id=443C49EE-FE58-4D92-9F80-D9732298D30E')"
   ]
  },
  {
   "cell_type": "markdown",
   "metadata": {},
   "source": [
    "## Getting all matches link given matches per day link"
   ]
  },
  {
   "cell_type": "code",
   "execution_count": 6,
   "metadata": {},
   "outputs": [],
   "source": [
    "def get_matches_link(matches_per_day_link):\n",
    "    page = requests.get(matches_per_day_link,timeout=None)\n",
    "    soup = BeautifulSoup(page.content, 'html.parser')\n",
    "    temp = soup.find_all(class_='icon stats') \n",
    "    all_matches_link = ['http://bwf.tournamentsoftware.com/sport' + link['href'][1:] for link in temp]\n",
    "    return all_matches_link"
   ]
  },
  {
   "cell_type": "markdown",
   "metadata": {},
   "source": [
    "### Example "
   ]
  },
  {
   "cell_type": "code",
   "execution_count": 7,
   "metadata": {},
   "outputs": [
    {
     "data": {
      "text/plain": [
       "['http://bwf.tournamentsoftware.com/sport/match.aspx?id=6614E5F7-6C30-4791-BC52-F3FF17BECA38&match=345',\n",
       " 'http://bwf.tournamentsoftware.com/sport/match.aspx?id=6614E5F7-6C30-4791-BC52-F3FF17BECA38&match=347',\n",
       " 'http://bwf.tournamentsoftware.com/sport/match.aspx?id=6614E5F7-6C30-4791-BC52-F3FF17BECA38&match=346',\n",
       " 'http://bwf.tournamentsoftware.com/sport/match.aspx?id=6614E5F7-6C30-4791-BC52-F3FF17BECA38&match=348',\n",
       " 'http://bwf.tournamentsoftware.com/sport/match.aspx?id=6614E5F7-6C30-4791-BC52-F3FF17BECA38&match=349']"
      ]
     },
     "execution_count": 7,
     "metadata": {},
     "output_type": "execute_result"
    }
   ],
   "source": [
    "get_matches_link('http://bwf.tournamentsoftware.com/sport/matches.aspx?id=6614E5F7-6C30-4791-BC52-F3FF17BECA38&d=20180411')[:5]"
   ]
  },
  {
   "cell_type": "markdown",
   "metadata": {},
   "source": [
    "## Getting all information given match soup"
   ]
  },
  {
   "cell_type": "code",
   "execution_count": 8,
   "metadata": {},
   "outputs": [],
   "source": [
    "def split_into_twos(lst):\n",
    "    return [list(x) for x in np.array_split(lst, len(lst)/2)]\n",
    "\n",
    "def get_player_information(matchlink):\n",
    "    page = requests.get(matchlink,timeout=None)\n",
    "    temp_soup = BeautifulSoup(page.content, 'html.parser')\n",
    "    temp = temp_soup.find(attrs={'href':re.compile('player-profile')})['href']\n",
    "    player_link = 'http://bwf.tournamentsoftware.com' + temp\n",
    "    page = requests.get(player_link,timeout=None)\n",
    "    temp_soup = BeautifulSoup(page.content, 'html.parser')\n",
    "    player_name = temp_soup.find(class_ = 'hgroup__heading truncate').get_text()\n",
    "    player_country = temp_soup.find(class_ = 'profile-head__nat')['title']\n",
    "    return [player_link, player_name] \n",
    "\n",
    "def get_all_information(soup):\n",
    "    soup_text = soup.text\n",
    "    temp = [a.text for a in soup.select('td a')]\n",
    "    match_discipline = temp[0]\n",
    "    \n",
    "    seed = [s[s.find('[')+1:s.find(']')] for s in temp if '[' in s and ']' in s and any(char.isdigit() for char in s)]\n",
    "    player1_seed = None\n",
    "    player2_seed = None\n",
    "    if len(seed) == 2:\n",
    "        player1_seed, player2_seed = seed[0], seed[1]\n",
    "    if len(seed) == 1:\n",
    "        if '[' in temp[1]:\n",
    "            player1_seed = seed[0]\n",
    "        else:\n",
    "            player2_seed = seed[0]\n",
    "    \n",
    "    temp = soup.find_all(attrs = {'align':'right'})[-1].get_text() \n",
    "    temp = temp.split(':')\n",
    "    if len(temp) == 2:\n",
    "        match_duration = 60 * int(temp[0]) + int(temp[1])\n",
    "    else:\n",
    "        match_duration = None\n",
    " \n",
    "    player1 = [int(j.partition(\"'\")[0]) for j in soup_text.rsplit('Player 1: ', -1)[1:]]\n",
    "    player2 = [int(j.partition(\"'\")[0]) for j in soup_text.rsplit('Player 2: ', -1)[1:]]\n",
    "    start_indices = [x for x in range(len(player1)) if player1[x] + player2[x] == 0] + [len(player1)]\n",
    "    start_end_indices = [(start_indices[i],start_indices[i+1]) for i in range(len(start_indices)-1)]\n",
    "    player1_score_sequence = [player1[s:e] for s,e in start_end_indices]\n",
    "    player2_score_sequence = [player2[s:e] for s,e in start_end_indices]\n",
    "    if len(player1_score_sequence[-1]) == 1:\n",
    "        player1_score_sequence = player1_score_sequence[:-1]\n",
    "        player2_score_sequence = player2_score_sequence[:-1]\n",
    "    temp = [int(x.text) for x in soup.find_all(\"td\") if re.match( '^[0-9]+$',x.text)]\n",
    "    number_of_matches = len(player1_score_sequence) \n",
    "    match_score = [[temp[8+10*i], temp[9+10*i]] for i in range(number_of_matches)]\n",
    "    match_statistic = split_into_twos(temp[:8]) \n",
    "    game_statistic = [split_into_twos(temp[10*i:8+10*i]) for i in range(1, number_of_matches+1)]\n",
    "    \n",
    "    retired = 'Retired' in soup_text\n",
    "    \n",
    "    tempa = [a['href'] for a in soup.find_all(attrs = {'href' : re.compile('player=')})]\n",
    "    number_of_players = 1 if tempa[0] == tempa[2] else 2\n",
    "    \n",
    "    tempx = soup.find_all(class_='intext flag')\n",
    "    \n",
    "    if number_of_players == 1:\n",
    "        player1_matchlink = 'http://bwf.tournamentsoftware.com/sport/' + tempa[0]\n",
    "        player1_country = tempx[0]['title']\n",
    "        player2_country = tempx[1]['title']\n",
    "        temp = soup.select('strong a')[0]['href']\n",
    "        winner = 1 if 'http://bwf.tournamentsoftware.com/sport/' + temp == player1_matchlink else 2 \n",
    "    else:\n",
    "        player11_matchlink = 'http://bwf.tournamentsoftware.com/sport/' + tempa[0]\n",
    "        player12_matchlink = 'http://bwf.tournamentsoftware.com/sport/' + tempa[1]\n",
    "        player1_country =  [tempx[0]['title'], tempx[1]['title']] \n",
    "        player1_matchlink = [player11_matchlink, player12_matchlink]\n",
    "        player2_country =  [tempx[2]['title'], tempx[3]['title']] \n",
    "        temp = soup.select('strong a')[0]['href']\n",
    "        winner = 1 if 'http://bwf.tournamentsoftware.com/sport/' + temp in player1_matchlink else 2\n",
    "    return [match_discipline, match_duration, \n",
    "            player1_country, player2_country,\n",
    "            player1_score_sequence, player2_score_sequence,\n",
    "           match_score, match_statistic, game_statistic,\n",
    "           retired, winner, player1_seed, player2_seed]"
   ]
  },
  {
   "cell_type": "markdown",
   "metadata": {},
   "source": [
    "### Example "
   ]
  },
  {
   "cell_type": "code",
   "execution_count": 9,
   "metadata": {},
   "outputs": [
    {
     "data": {
      "text/plain": [
       "['MS-U19',\n",
       " 23,\n",
       " 'Switzerland',\n",
       " 'Spain',\n",
       " [[0,\n",
       "   0,\n",
       "   1,\n",
       "   1,\n",
       "   1,\n",
       "   2,\n",
       "   2,\n",
       "   2,\n",
       "   3,\n",
       "   4,\n",
       "   4,\n",
       "   4,\n",
       "   4,\n",
       "   4,\n",
       "   5,\n",
       "   5,\n",
       "   5,\n",
       "   6,\n",
       "   6,\n",
       "   6,\n",
       "   6,\n",
       "   7,\n",
       "   8,\n",
       "   8,\n",
       "   8,\n",
       "   9,\n",
       "   9,\n",
       "   9,\n",
       "   9,\n",
       "   10,\n",
       "   10,\n",
       "   10],\n",
       "  [0,\n",
       "   0,\n",
       "   0,\n",
       "   0,\n",
       "   0,\n",
       "   1,\n",
       "   2,\n",
       "   2,\n",
       "   3,\n",
       "   3,\n",
       "   4,\n",
       "   4,\n",
       "   4,\n",
       "   4,\n",
       "   5,\n",
       "   5,\n",
       "   5,\n",
       "   5,\n",
       "   5,\n",
       "   5,\n",
       "   5,\n",
       "   5,\n",
       "   5,\n",
       "   5,\n",
       "   6,\n",
       "   6,\n",
       "   7,\n",
       "   8,\n",
       "   8,\n",
       "   8]],\n",
       " [[0,\n",
       "   1,\n",
       "   1,\n",
       "   2,\n",
       "   3,\n",
       "   3,\n",
       "   4,\n",
       "   5,\n",
       "   5,\n",
       "   5,\n",
       "   6,\n",
       "   7,\n",
       "   8,\n",
       "   9,\n",
       "   9,\n",
       "   10,\n",
       "   11,\n",
       "   11,\n",
       "   12,\n",
       "   13,\n",
       "   14,\n",
       "   14,\n",
       "   14,\n",
       "   15,\n",
       "   16,\n",
       "   16,\n",
       "   17,\n",
       "   18,\n",
       "   19,\n",
       "   19,\n",
       "   20,\n",
       "   21],\n",
       "  [0,\n",
       "   1,\n",
       "   2,\n",
       "   3,\n",
       "   4,\n",
       "   4,\n",
       "   4,\n",
       "   5,\n",
       "   5,\n",
       "   6,\n",
       "   6,\n",
       "   7,\n",
       "   8,\n",
       "   9,\n",
       "   9,\n",
       "   10,\n",
       "   11,\n",
       "   12,\n",
       "   13,\n",
       "   14,\n",
       "   15,\n",
       "   16,\n",
       "   17,\n",
       "   18,\n",
       "   18,\n",
       "   19,\n",
       "   19,\n",
       "   19,\n",
       "   20,\n",
       "   21]],\n",
       " [[10, 21], [8, 21]],\n",
       " [[2, 9], [0, 2], [60, 60], [18, 42]],\n",
       " [[[2, 4], [0, 1], [31, 31], [10, 21]], [[2, 9], [0, 1], [29, 29], [8, 21]]],\n",
       " False,\n",
       " 2,\n",
       " None,\n",
       " '7']"
      ]
     },
     "execution_count": 9,
     "metadata": {},
     "output_type": "execute_result"
    }
   ],
   "source": [
    "get_all_information(BeautifulSoup(requests.get('http://bwf.tournamentsoftware.com/sport/match.aspx?id=4A992ADB-1E74-43C4-83AA-801234F2F12F&match=59').content,'html.parser'))"
   ]
  },
  {
   "cell_type": "markdown",
   "metadata": {},
   "source": [
    "## Getting players information given match soup and current dictionary"
   ]
  },
  {
   "cell_type": "code",
   "execution_count": 10,
   "metadata": {},
   "outputs": [],
   "source": [
    "def unseed(player_name):\n",
    "    if player_name[-1] == ']':\n",
    "        return player_name.split('[')[0][:-1].lower()\n",
    "    else:\n",
    "        return player_name.lower()\n",
    "    \n",
    "def get_players_information(soup, dictionary):\n",
    "    t = [a.text for a in soup.select('td a')][1:]\n",
    "    temp = [m for m in t if not(bool(re.search('\\[(?<![A-Z])[A-Z]{3}(?![A-Z])\\]', m))) and len(m) > 2]\n",
    "    temp = [unseed(m) for m in temp]\n",
    "    tempa = [a['href'] for a in soup.find_all(attrs = {'href' : re.compile('player=')})]\n",
    "    if len(temp) == 2:\n",
    "        if temp[0] in dictionary.keys():\n",
    "            tempy = dictionary[temp[0]]\n",
    "            player1_link, player1_name = tempy[0], tempy[1]\n",
    "        else:\n",
    "            player1_matchlink = 'http://bwf.tournamentsoftware.com/sport/' + tempa[0]\n",
    "            tempb = get_player_information(player1_matchlink)\n",
    "            player1_link, player1_name = tempb[0], tempb[1]\n",
    "            dictionary[temp[0]] = tempb\n",
    "        if temp[1] in dictionary.keys():\n",
    "            tempy = dictionary[temp[1]]\n",
    "            player2_link, player2_name = tempy[0], tempy[1]\n",
    "        else:\n",
    "            player2_matchlink = 'http://bwf.tournamentsoftware.com/sport/' + tempa[1]\n",
    "            tempb = get_player_information(player2_matchlink)\n",
    "            player2_link, player2_name = tempb[0], tempb[1]\n",
    "            dictionary[temp[1]] = tempb            \n",
    "    else:\n",
    "        if temp[0] in dictionary.keys():\n",
    "            tempy = dictionary[temp[0]]\n",
    "            player1_link, player1_name = tempy[0], tempy[1]\n",
    "        else:\n",
    "            player1_matchlink = 'http://bwf.tournamentsoftware.com/sport/' + tempa[0]\n",
    "            tempb = get_player_information(player1_matchlink)\n",
    "            player1_link, player1_name = tempb[0], tempb[1]\n",
    "            dictionary[temp[0]] = tempb\n",
    "        if temp[1] in dictionary.keys():\n",
    "            tempy = dictionary[temp[1]]\n",
    "            player2_link, player2_name = tempy[0], tempy[1]\n",
    "        else:\n",
    "            player2_matchlink = 'http://bwf.tournamentsoftware.com/sport/' + tempa[1]\n",
    "            tempb = get_player_information(player2_matchlink)\n",
    "            player2_link, player2_name = tempb[0], tempb[1]\n",
    "            dictionary[temp[1]] = tempb          \n",
    "        if temp[2] in dictionary.keys():\n",
    "            tempy = dictionary[temp[2]]\n",
    "            player3_link, player3_name = tempy[0], tempy[1]\n",
    "        else:\n",
    "            player3_matchlink = 'http://bwf.tournamentsoftware.com/sport/' + tempa[2]\n",
    "            tempb = get_player_information(player3_matchlink)\n",
    "            player3_link, player3_name = tempb[0], tempb[1]\n",
    "            dictionary[temp[2]] = tempb\n",
    "        if temp[3] in dictionary.keys():\n",
    "            tempy = dictionary[temp[3]]\n",
    "            player4_link, player4_name = tempy[0], tempy[1]\n",
    "        else:\n",
    "            player4_matchlink = 'http://bwf.tournamentsoftware.com/sport/' + tempa[3]\n",
    "            tempb = get_player_information(player4_matchlink)\n",
    "            player4_link, player4_name = tempb[0], tempb[1]\n",
    "            dictionary[temp[3]] = tempb\n",
    "        player1_link = [player1_link, player2_link]\n",
    "        player1_name = [player1_name, player2_name]\n",
    "        player2_link = [player3_link, player4_link]\n",
    "        player2_name = [player3_name, player4_name]            \n",
    "    return [player1_link, player1_name, player2_link, player2_name, dictionary]    "
   ]
  },
  {
   "cell_type": "markdown",
   "metadata": {},
   "source": [
    "### Example "
   ]
  },
  {
   "cell_type": "code",
   "execution_count": 11,
   "metadata": {},
   "outputs": [
    {
     "data": {
      "text/plain": [
       "['http://bwf.tournamentsoftware.com/player-profile/8D79D2E1-FB10-4E5A-8736-F9C5F8936C83',\n",
       " 'Arthur BOUDIER',\n",
       " 'http://bwf.tournamentsoftware.com/player-profile/A14F218F-DE0E-4FC3-90B6-7087F75F9F8B',\n",
       " 'Joan MONROY',\n",
       " {'arthur boudier': ['http://bwf.tournamentsoftware.com/player-profile/8D79D2E1-FB10-4E5A-8736-F9C5F8936C83',\n",
       "   'Arthur BOUDIER'],\n",
       "  'joan monroy': ['http://bwf.tournamentsoftware.com/player-profile/A14F218F-DE0E-4FC3-90B6-7087F75F9F8B',\n",
       "   'Joan MONROY']}]"
      ]
     },
     "execution_count": 11,
     "metadata": {},
     "output_type": "execute_result"
    }
   ],
   "source": [
    "get_players_information(BeautifulSoup(requests.get('http://bwf.tournamentsoftware.com/sport/match.aspx?id=4A992ADB-1E74-43C4-83AA-801234F2F12F&match=59').content,'html.parser'),{})"
   ]
  },
  {
   "cell_type": "markdown",
   "metadata": {},
   "source": [
    "## Main function!"
   ]
  },
  {
   "cell_type": "code",
   "execution_count": 12,
   "metadata": {},
   "outputs": [],
   "source": [
    "def get_csv(start, end, filename, dictionary):\n",
    "    bigerror = []\n",
    "    hono_error = []\n",
    "    other_error = []\n",
    "    hono_counter = 0\n",
    "    df = pd.DataFrame(columns=['Player 1 Link', 'Player 1 Name', \n",
    "                               'Player 2 Link', 'Player 2 Name', \n",
    "                                'Tournament Link', 'Tournament Name',\n",
    "                               'Tournament Type', 'Tournament City',\n",
    "                               'Tournament Country', 'Tournament Start Date',\n",
    "                               'Tournament End Date', 'Match Link', \n",
    "                               'Discipline', 'Duration',  \n",
    "                               'Player 1 Country', 'Player 2 Country',\n",
    "                                'Player 1 Sequence', 'Player 2 Sequence', 'Match Score',\n",
    "                              'Match Statistic', 'Game Statistic', 'Retired', 'Winner',\n",
    "                              'Player 1 Seed', 'Player 2 Seed', 'Match Date'])\n",
    "    df.to_csv(filename, index=False)\n",
    "    tournament_links = get_tournament_links(start, end)\n",
    "    for tournament_link in tournament_links:\n",
    "        results = []\n",
    "        try:\n",
    "            tournament_data = get_tournament_data(tournament_link)\n",
    "            matches_per_day_links = tournament_data[-1]\n",
    "        except Exception as e:\n",
    "            bigerror.append([tournament_link, e])\n",
    "            continue\n",
    "        for matches_per_day_link in matches_per_day_links:\n",
    "            try:\n",
    "                match_date = datetime.strptime(matches_per_day_link.split('=')[-1], '%Y%m%d')\n",
    "                match_links = get_matches_link(matches_per_day_link)\n",
    "            except Exception as e:\n",
    "                bigerror.append([tournament_link, matches_per_day_link, e])\n",
    "                continue\n",
    "            for match_link in match_links:\n",
    "                #print(match_link)\n",
    "                if hono_counter > 0:\n",
    "                    time.sleep(7)\n",
    "                try:\n",
    "                    page = requests.get(match_link, timeout=None)\n",
    "                    soup = BeautifulSoup(page.content, 'html.parser')\n",
    "                    match_information = get_all_information(soup)\n",
    "                    player_information_dict = get_players_information(soup, dictionary)\n",
    "                    player_information = player_information_dict[:-1]\n",
    "                    dictionary = player_information_dict[-1]\n",
    "                    listx = player_information + [tournament_link] + tournament_data[:6] + [match_link] + match_information + [match_date]\n",
    "                    results.append(listx)\n",
    "                    hono_counter = max(0, hono_counter - 1)\n",
    "                except requests.exceptions.ConnectionError:\n",
    "                    #print('TAMURA HONO')\n",
    "                    hono_counter += 1\n",
    "                    hono_error.append([tournament_link, match_link])\n",
    "                    continue\n",
    "                except Exception as e:\n",
    "                    other_error.append([tournament_link, match_link, e])\n",
    "                    hono_counter = max(0, hono_counter - 1)\n",
    "                    continue\n",
    "                finally:    \n",
    "                    #print(hono_counter)    \n",
    "        results = pd.DataFrame(results)   \n",
    "        with open(filename, 'a') as f:\n",
    "            results.to_csv(f, header=False, index=False)\n",
    "    return [bigerror, hono_error, other_error, dictionary]"
   ]
  },
  {
   "cell_type": "code",
   "execution_count": 13,
   "metadata": {},
   "outputs": [],
   "source": [
    "data = get_csv(datetime(2018,1,1),datetime(2018,12,31),\"data_2018.csv\",{})  "
   ]
  }
 ],
 "metadata": {
  "kernelspec": {
   "display_name": "Python 3",
   "language": "python",
   "name": "python3"
  },
  "language_info": {
   "codemirror_mode": {
    "name": "ipython",
    "version": 3
   },
   "file_extension": ".py",
   "mimetype": "text/x-python",
   "name": "python",
   "nbconvert_exporter": "python",
   "pygments_lexer": "ipython3",
   "version": "3.7.3"
  }
 },
 "nbformat": 4,
 "nbformat_minor": 2
}
